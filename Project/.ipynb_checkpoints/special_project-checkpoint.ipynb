{
 "cells": [
  {
   "cell_type": "markdown",
   "metadata": {},
   "source": [
    "# [IAPR 2019:][iapr2019] Special project\n",
    "\n",
    "**Group members:**\n",
    "    1- first name and last name,\n",
    "    2- first name and last name,\n",
    "    3- first name and last name\n",
    "\n",
    "**Due date:** 30.05.2019\n",
    "\n",
    "[iapr2019]: https://github.com/LTS5/iapr-2019\n"
   ]
  },
  {
   "cell_type": "markdown",
   "metadata": {},
   "source": [
    "## Description\n",
    "Please find the description of this special project via [this link].\n",
    "\n",
    "[this link]: https://github.com/LTS5/iapr-2019/blob/master/project/special_project_description.pdf"
   ]
  },
  {
   "cell_type": "code",
   "execution_count": 113,
   "metadata": {},
   "outputs": [
    {
     "name": "stderr",
     "output_type": "stream",
     "text": [
      "C:\\Users\\Hedi Fendri\\Anaconda3\\lib\\site-packages\\sklearn\\ensemble\\weight_boosting.py:29: DeprecationWarning: numpy.core.umath_tests is an internal NumPy module and should not be imported. It will be removed in a future NumPy release.\n",
      "  from numpy.core.umath_tests import inner1d\n"
     ]
    }
   ],
   "source": [
    "from sklearn.ensemble import RandomForestClassifier\n",
    "from sklearn.metrics import make_scorer, accuracy_score\n",
    "from sklearn.model_selection import GridSearchCV\n",
    "from sklearn.metrics import classification_report\n",
    "from sklearn.metrics import accuracy_score, log_loss\n",
    "import warnings\n",
    "from sklearn.svm import SVC\n",
    "from sklearn import decomposition\n",
    "from sklearn import preprocessing\n",
    "from sklearn import metrics\n",
    "from sklearn.metrics import roc_curve,auc,roc_auc_score\n",
    "from sklearn.metrics import precision_recall_curve\n",
    "from sklearn.metrics import  average_precision_score\n",
    "from sklearn.discriminant_analysis import LinearDiscriminantAnalysis as LDA\n",
    "from sklearn.discriminant_analysis import QuadraticDiscriminantAnalysis as QDA"
   ]
  },
  {
   "cell_type": "code",
   "execution_count": 70,
   "metadata": {},
   "outputs": [],
   "source": [
    "import numpy as np\n",
    "import matplotlib.pyplot as plt\n",
    "import matplotlib\n",
    "%matplotlib inline\n",
    "import os\n",
    "from PIL import Image, ImageDraw\n",
    "import math\n",
    "import cv2 \n",
    "import xml.etree.ElementTree as ET\n",
    "from skimage import feature\n",
    "from skimage import transform\n",
    "from skimage import measure"
   ]
  },
  {
   "cell_type": "code",
   "execution_count": 956,
   "metadata": {},
   "outputs": [
    {
     "name": "stdout",
     "output_type": "stream",
     "text": [
      "train image size 800 , test image size 50, validation image size 150\n"
     ]
    }
   ],
   "source": [
    "src_path_train = './project-data/images/train/'\n",
    "xml_path_train=\"./project-data/annotations/train/\"\n",
    "prepared_data_path=\"./project-data/images/train/prepared_data/\"\n",
    "fp_data_path=\"./project-data/images/train/false_positive/\"\n",
    "img_list_dir = os.listdir(src_path_train)\n",
    "img_list = [names for names in img_list_dir if names.endswith(\".jpg\")]\n",
    "img_list_size = len(img_list)\n",
    "\n",
    "src_path_test = './project-data/images/test/'\n",
    "xml_path_test=\"./project-data/annotations/test/\"\n",
    "prepared_data_path_test=\"./project-data/images/test/prepared_data/\"\n",
    "img_list_dir_test = os.listdir(src_path_test)\n",
    "img_list_test = [names for names in img_list_dir_test  if names.endswith(\".jpg\")]\n",
    "img_list_size_test = len(img_list_test)\n",
    "\n",
    "src_path_validation = './project-data/images/validation/'\n",
    "xml_path_validation=\"./project-data/annotations/validation/\"\n",
    "prepared_data_path_validation=\"./project-data/images/validation/prepared_data/\"\n",
    "img_list_dir_validation = os.listdir(src_path_validation)\n",
    "img_list_validation = [names for names in img_list_dir_validation  if names.endswith(\".jpg\")]\n",
    "img_list_size_validation = len(img_list_validation)\n",
    "print(\"train image size {} , test image size {}, validation image size {}\".format(img_list_size,img_list_size_test,img_list_size_validation))"
   ]
  },
  {
   "cell_type": "code",
   "execution_count": null,
   "metadata": {},
   "outputs": [],
   "source": []
  },
  {
   "cell_type": "code",
   "execution_count": 3,
   "metadata": {},
   "outputs": [],
   "source": [
    "def parse_file(filename):\n",
    "    \"\"\" Parse a PASCAL VOC xml file \"\"\"\n",
    "    tree = ET.parse(filename)\n",
    "    objects = []\n",
    "    for obj in tree.findall('object'):\n",
    "        obj_struct = {}\n",
    "        obj_struct['name'] = obj.find('name').text\n",
    "        bbox = obj.find('bndbox')\n",
    "        obj_struct['bbox'] = [int(float(bbox.find('xmin').text)),\n",
    "                              int(float(bbox.find('ymin').text)),\n",
    "                              int(float(bbox.find('xmax').text))-int(float(bbox.find('xmin').text)),\n",
    "                              int(float(bbox.find('ymax').text))-int(float(bbox.find('ymin').text))]\n",
    "        objects.append(obj_struct)\n",
    "    return objects"
   ]
  },
  {
   "cell_type": "code",
   "execution_count": 4,
   "metadata": {},
   "outputs": [],
   "source": [
    "annotations_xmls = [parse_file(os.path.join(xml_path_train, name[:-4]) + '.xml') for name in img_list]\n",
    "annotations_xmls_test=[parse_file(os.path.join(xml_path_test, name[:-4]) + '.xml') for name in img_list_test]\n",
    "annotations_xmls_validation=[parse_file(os.path.join(xml_path_validation, name[:-4]) + '.xml') for name in img_list_validation]"
   ]
  },
  {
   "cell_type": "code",
   "execution_count": 5,
   "metadata": {},
   "outputs": [],
   "source": [
    "def calculate_IOU(bbox1, bbox2):\n",
    "    #Calculate overlap between two bounding boxes [x, y, w, h] as the area of intersection over the area of unity\n",
    "    \n",
    "    #determine the (x, y)-coordinates of the intersection rectangle\n",
    "    x1, y1, w1, h1 = bbox1[0], bbox1[1], bbox1[2], bbox1[3]\n",
    "    x2, y2, w2, h2 = bbox2[0], bbox2[1], bbox2[2], bbox2[3]\n",
    "    \n",
    "    \n",
    "    xA = max(x1, x2)\n",
    "    yA = max(y1, y2)\n",
    "    xB = min(x1+w1, x2+w2)\n",
    "    yB = min(y1+h1, y2+h2)\n",
    "    # compute the area of intersection rectangle\n",
    "    interArea = max(0, xB - xA ) * max(0, yB - yA )\n",
    "    \n",
    "    # compute the area of both the prediction and ground-truth\n",
    "    boxAArea = (w1 ) * (h1 )\n",
    "    boxBArea = (w2 ) * (h2 )\n",
    "\n",
    "    # compute the intersection over union by taking the intersection\n",
    "    # area and dividing it by the sum of prediction + ground-truth\n",
    "    # areas - the interesection area\n",
    "    iou = interArea / float(boxAArea + boxBArea - interArea)\n",
    "\n",
    "    return iou"
   ]
  },
  {
   "cell_type": "code",
   "execution_count": 6,
   "metadata": {},
   "outputs": [],
   "source": [
    "def split_and_label(prepared_data_path,img,img_name,annotations): \n",
    "    #Mirror padding\n",
    "    w,h,d = img.shape \n",
    "    w_i=int(w/32)+1\n",
    "    h_i=int(h/32)+1\n",
    "    new_w=w_i*32\n",
    "    new_h=h_i*32\n",
    "    count=0\n",
    "    new_img=img\n",
    "    l=0\n",
    "    for i in range(w_i): \n",
    "        for j in range(h_i): \n",
    "            count+=1 \n",
    "            name=img_name+\"_\"+str(count)\n",
    "            sub_img=new_img[0:64,0:64,:]\n",
    "            label=0\n",
    "            for box in annotations:\n",
    "                if (box[0]>=i*32  and box[0]< i*32+64 and box[1]>=j*32 and  box[1]< j*32+64) :\n",
    "                    if ( box[0]+box[2]<i*32+64 and box[1]+box[3]<j*32+64):\n",
    "                        l=l+1\n",
    "                        label=1\n",
    "                \"\"\"\"\n",
    "                iou=calculate_IOU(box,[i*32,j*32,64,64])\n",
    "                if (iou>0.5): \n",
    "                    label=1 \n",
    "                    j=j+1\n",
    "                    break\n",
    "                \"\"\"\n",
    "            name+=\"_\"+str(label)\n",
    "            im=Image.fromarray(sub_img)\n",
    "            b, g, r = im.split()\n",
    "            im= Image.merge(\"RGB\", (r, g, b))\n",
    "            im.save(prepared_data_path+name+\".jpg\")         \n",
    "            new_img=np.roll(new_img,-32,axis=1)\n",
    "        new_img=np.roll(new_img,-32,axis=0)\n",
    "    return l "
   ]
  },
  {
   "cell_type": "code",
   "execution_count": 7,
   "metadata": {},
   "outputs": [
    {
     "name": "stdout",
     "output_type": "stream",
     "text": [
      "train max box size [56] , test max box size [52], validation max box size [52]\n"
     ]
    }
   ],
   "source": [
    "ground_truth_1=[]\n",
    "for j in range(len(annotations_xmls)):\n",
    "    for i in range(len(annotations_xmls[j])): \n",
    "        ground_truth_1.append(annotations_xmls[j][i]['bbox'][2:3])\n",
    "max_box_size=max(ground_truth_1)\n",
    "ground_truth_1=[]\n",
    "\n",
    "for j in range(len(annotations_xmls_test)):\n",
    "    for i in range(len(annotations_xmls_test[j])): \n",
    "        ground_truth_1.append(annotations_xmls_test[j][i]['bbox'][2:3])\n",
    "max_box_size_test=max(ground_truth_1)\n",
    "\n",
    "for j in range(len(annotations_xmls_validation)):\n",
    "    for i in range(len(annotations_xmls_validation[j])): \n",
    "        ground_truth_1.append(annotations_xmls_validation[j][i]['bbox'][2:3])\n",
    "max_box_size_validation=max(ground_truth_1)\n",
    "print(\"train max box size {} , test max box size {}, validation max box size {}\".format(max_box_size,max_box_size_test,max_box_size_validation))"
   ]
  },
  {
   "cell_type": "code",
   "execution_count": 8,
   "metadata": {},
   "outputs": [],
   "source": [
    "import random\n",
    "def split_and_label_v2(prepared_data_path,max_box_size,img,img_name,annotations): \n",
    "    count=0\n",
    "    width,height=img.shape[0],img.shape[1]\n",
    "    bbox=[]\n",
    "    for box in annotations: \n",
    "        name=img_name+\"_\"+str(count)+\"_1\"\n",
    "\n",
    "        xmin,ymin,w,h=box[0],box[1],box[2],box[3] \n",
    "        max_size=int(max_box_size[0]/2)\n",
    "        new_img_=img[max(0,ymin-10):min(ymin+max_size+10,width),max(0,xmin-10):min(xmin+max_size+10,height),:]\n",
    "        im=Image.fromarray(new_img_)\n",
    "        bbox.append([10,10,box[2],box[3],1])\n",
    "        b, g, r = im.split()\n",
    "        im= Image.merge(\"RGB\", (r, g, b))\n",
    "        im.save(prepared_data_path+name+\".jpg\") \n",
    "        name=img_name+\"_\"+str(count)+\"_0\"\n",
    "        if (xmin-56)>0 and (ymin-56)>0:\n",
    "            x1 = random.randint(0, xmin-56)\n",
    "            y1 = random.randint(0, ymin-56)\n",
    "        else :\n",
    "            x1 = random.randint(0, min(xmin+56,height))\n",
    "            y1 = random.randint(0, min(ymin+56,width))\n",
    "        new_img=img[y1:min(y1+48,width),x1:min(height,x1+48),:]\n",
    "        bbox.append([0,0,0,0,0])\n",
    "        im=Image.fromarray(new_img)\n",
    "        b, g, r = im.split()\n",
    "        im= Image.merge(\"RGB\", (r, g, b))\n",
    "        im.save(prepared_data_path+name+\".jpg\") \n",
    "        count+=1\n",
    "    return bbox"
   ]
  },
  {
   "cell_type": "code",
   "execution_count": 9,
   "metadata": {},
   "outputs": [],
   "source": [
    "def make_dataset(img_list,src_path,max_box_size,prepared_data_path,annotations_xmls):\n",
    "    bbox=[]\n",
    "    for j in range(len(img_list)):\n",
    "        name=img_list[j]\n",
    "        img = cv2.imread(src_path+name)\n",
    "        ground_truth_1=[]\n",
    "        for i in range(len(annotations_xmls[j])): \n",
    "            ground_truth_1.append(annotations_xmls[j][i]['bbox'])\n",
    "        ground_truth_1\n",
    "        bbox.append(split_and_label_v2(prepared_data_path,max_box_size,img,name[:-4],ground_truth_1))\n",
    "    return bbox"
   ]
  },
  {
   "cell_type": "code",
   "execution_count": 10,
   "metadata": {},
   "outputs": [
    {
     "name": "stdout",
     "output_type": "stream",
     "text": [
      "50\n"
     ]
    }
   ],
   "source": [
    "print(len(annotations_xmls_test))"
   ]
  },
  {
   "cell_type": "code",
   "execution_count": 11,
   "metadata": {},
   "outputs": [],
   "source": [
    "bbox=make_dataset(img_list,src_path_train,max_box_size,prepared_data_path,annotations_xmls)\n",
    "bbox_test=make_dataset(img_list_test,src_path_test,max_box_size_test,prepared_data_path_test,annotations_xmls_test)\n",
    "bbox_validation=make_dataset(img_list_validation,src_path_validation,max_box_size_validation,prepared_data_path_validation,annotations_xmls_validation)"
   ]
  },
  {
   "cell_type": "code",
   "execution_count": 12,
   "metadata": {},
   "outputs": [
    {
     "name": "stdout",
     "output_type": "stream",
     "text": [
      "FOR TRAINING\n",
      "number of images with label =1 (varroas) is  7483\n",
      "number of images with label =0 (non varroas) is  7483\n",
      "Total number of files =  14966\n",
      "FOR TESTING\n",
      "number of images with label =1 (varroas) is  582\n",
      "number of images with label =0 (non varroas) is  582\n",
      "Total number of files =  1164\n",
      "FOR VALIDATION\n",
      "number of images with label =1 (varroas) is  1539\n",
      "number of images with label =0 (non varroas) is  1539\n",
      "Total number of files =  3078\n"
     ]
    }
   ],
   "source": [
    "img_list_dir_prep = os.listdir(prepared_data_path)\n",
    "number_label_non_varroa_train=0\n",
    "number_label_varroa_train=0\n",
    "for prep_name in img_list_dir_prep: \n",
    "    if prep_name.endswith('_1.jpg'):\n",
    "        number_label_varroa_train+=1\n",
    "    if prep_name.endswith('_0.jpg'):\n",
    "        number_label_non_varroa_train+=1\n",
    "print(\"FOR TRAINING\")\n",
    "print(\"number of images with label =1 (varroas) is \",number_label_non_varroa_train)\n",
    "print(\"number of images with label =0 (non varroas) is \",number_label_varroa_train)\n",
    "print(\"Total number of files = \",number_label_varroa_train+number_label_non_varroa_train)    \n",
    "\n",
    "img_list_dir_prep_test = os.listdir(prepared_data_path_test)\n",
    "number_label_non_varroa_test=0\n",
    "number_label_varroa_test=0\n",
    "for prep_name in img_list_dir_prep_test: \n",
    "    if prep_name.endswith('_1.jpg'):\n",
    "        number_label_varroa_test+=1\n",
    "    if prep_name.endswith('_0.jpg'):\n",
    "        number_label_non_varroa_test+=1\n",
    "print(\"FOR TESTING\")\n",
    "print(\"number of images with label =1 (varroas) is \",number_label_non_varroa_test)\n",
    "print(\"number of images with label =0 (non varroas) is \",number_label_varroa_test)\n",
    "print(\"Total number of files = \",number_label_varroa_test+number_label_non_varroa_test)\n",
    "\n",
    "img_list_dir_prep_validation = os.listdir(prepared_data_path_validation)\n",
    "number_label_non_varroa_val=0\n",
    "number_label_varroa_val=0\n",
    "for prep_name in img_list_dir_prep_validation: \n",
    "    if prep_name.endswith('_1.jpg'):\n",
    "        number_label_varroa_val+=1\n",
    "    if prep_name.endswith('_0.jpg'):\n",
    "        number_label_non_varroa_val+=1\n",
    "print(\"FOR VALIDATION\")\n",
    "print(\"number of images with label =1 (varroas) is \",number_label_non_varroa_val)\n",
    "print(\"number of images with label =0 (non varroas) is \",number_label_varroa_val)\n",
    "print(\"Total number of files = \",number_label_varroa_val+number_label_non_varroa_val)"
   ]
  },
  {
   "cell_type": "code",
   "execution_count": 13,
   "metadata": {},
   "outputs": [],
   "source": [
    "def resize(img_list_dir_prep,prepared_data_path):\n",
    "    img_list_prep = [names for names in img_list_dir_prep if names.endswith(\".jpg\")]\n",
    "    sizes = [Image.open(prepared_data_path+f, 'r').size for f in img_list_prep]\n",
    "    max_width,max_height=max(sizes)\n",
    "    for item in img_list_dir_prep:\n",
    "        if os.path.isfile(prepared_data_path+item):\n",
    "            im = Image.open(prepared_data_path+item)\n",
    "            f, e = os.path.splitext(prepared_data_path+item)\n",
    "            imResize = im.resize((48,48), Image.ANTIALIAS)\n",
    "            imResize.save(f + '.jpg', 'JPEG', quality=90)"
   ]
  },
  {
   "cell_type": "code",
   "execution_count": 14,
   "metadata": {},
   "outputs": [],
   "source": [
    "resize(img_list_dir_prep,prepared_data_path)\n",
    "resize(img_list_dir_prep_test,prepared_data_path_test)\n",
    "resize(img_list_dir_prep_validation,prepared_data_path_validation)"
   ]
  },
  {
   "cell_type": "code",
   "execution_count": 15,
   "metadata": {},
   "outputs": [],
   "source": [
    "img_list_prep_train = [names for names in img_list_dir_prep if names.endswith(\".jpg\")]\n",
    "img_list_prep_test = [names for names in img_list_dir_prep_test if names.endswith(\".jpg\")]\n",
    "img_list_prep_validation = [names for names in img_list_dir_prep_validation if names.endswith(\".jpg\")]"
   ]
  },
  {
   "cell_type": "code",
   "execution_count": 16,
   "metadata": {},
   "outputs": [],
   "source": [
    "num_imgs_train=number_label_varroa_train+number_label_non_varroa_train\n",
    "num_imgs_test=number_label_varroa_test+number_label_non_varroa_test\n",
    "num_imgs_validation=number_label_varroa_val+number_label_non_varroa_val\n",
    "\n",
    "X_train=np.zeros((num_imgs_train,48,48,3))\n",
    "for i in range(len(img_list_prep_train)):\n",
    "    name=img_list_prep_train[i]\n",
    "    img = cv2.imread(prepared_data_path+name)\n",
    "    X_train[i,:,:,:]=img\n",
    "\n",
    "X_test=np.zeros((num_imgs_test,48,48,3))\n",
    "for i in range(len(img_list_prep_test)):\n",
    "    name=img_list_prep_test[i]\n",
    "    img = cv2.imread(prepared_data_path_test+name)\n",
    "    X_test[i,:,:,:]=img\n",
    "\n",
    "X_val=np.zeros((num_imgs_validation,48,48,3))\n",
    "for i in range(len(img_list_prep_validation)):\n",
    "    name=img_list_prep_validation[i]\n",
    "    img = cv2.imread(prepared_data_path_validation+name)\n",
    "    X_val[i,:,:,:]=img\n"
   ]
  },
  {
   "cell_type": "code",
   "execution_count": 17,
   "metadata": {},
   "outputs": [
    {
     "name": "stdout",
     "output_type": "stream",
     "text": [
      "(14966, 48, 48, 3)\n",
      "(1164, 48, 48, 3)\n",
      "(3078, 48, 48, 3)\n"
     ]
    }
   ],
   "source": [
    "print(X_train.shape)\n",
    "print(X_test.shape)\n",
    "print(X_val.shape)"
   ]
  },
  {
   "cell_type": "code",
   "execution_count": 25,
   "metadata": {},
   "outputs": [],
   "source": [
    "count=0\n",
    "bbox_train_=np.zeros((X_train.shape[0],5))\n",
    "for image_box in bbox: \n",
    "    for box in image_box:\n",
    "        bbox_train_[count,0]=box[0]\n",
    "        bbox_train_[count,1]=box[1]\n",
    "        bbox_train_[count,2]=box[2]\n",
    "        bbox_train_[count,3]=box[3]\n",
    "        bbox_train_[count,4]=box[4]\n",
    "        count+=1  \n",
    "\n",
    "count=0\n",
    "bbox_test_=np.zeros((X_test.shape[0],5))\n",
    "for image_box in bbox_test: \n",
    "    for box in image_box:\n",
    "        bbox_test_[count,0]=box[0]\n",
    "        bbox_test_[count,1]=box[1]\n",
    "        bbox_test_[count,2]=box[2]\n",
    "        bbox_test_[count,3]=box[3]\n",
    "        bbox_test_[count,4]=box[4]\n",
    "        count+=1  \n",
    "\n",
    "count=0\n",
    "bbox_validation_=np.zeros((X_val.shape[0],5))\n",
    "for image_box in bbox_validation: \n",
    "    for box in image_box:\n",
    "        bbox_validation_[count,0]=box[0]\n",
    "        bbox_validation_[count,1]=box[1]\n",
    "        bbox_validation_[count,2]=box[2]\n",
    "        bbox_validation_[count,3]=box[3]\n",
    "        bbox_validation_[count,4]=box[4]\n",
    "        count+=1  "
   ]
  },
  {
   "cell_type": "code",
   "execution_count": 858,
   "metadata": {},
   "outputs": [],
   "source": [
    "Y_train=bbox_train_\n",
    "Y_test=bbox_test_\n",
    "Y_val=bbox_validation_"
   ]
  },
  {
   "cell_type": "code",
   "execution_count": 878,
   "metadata": {},
   "outputs": [],
   "source": [
    "batch_size = 100\n",
    "num_epoch = 20\n",
    "learning_rate = 0.001"
   ]
  },
  {
   "cell_type": "code",
   "execution_count": 28,
   "metadata": {},
   "outputs": [
    {
     "name": "stdout",
     "output_type": "stream",
     "text": [
      "[[[[-2.84827786e-12  8.20058727e-13 -7.27218541e-13]]]] [[[[1. 1. 1.]]]]\n",
      "[[[[159.62844202 154.83111845 150.52723114]]]] [[[[62.44289658 53.83234143 44.50817755]]]]\n",
      "[[[[134.62986441 134.33773128 134.0592995 ]]]] [[[[57.06324345 51.75719531 43.16581642]]]]\n"
     ]
    }
   ],
   "source": [
    "imgs_mean_train = np.mean(X_train,axis=(0,1,2)).reshape((1,1,1,-1))\n",
    "imgs_std_train = np.std(X_train,axis=(0,1,2)).reshape((1,1,1,-1))\n",
    "print(imgs_mean_train,imgs_std_train)\n",
    "\n",
    "imgs_mean_test = np.mean(X_test,axis=(0,1,2)).reshape((1,1,1,-1))\n",
    "imgs_std_test = np.std(X_test,axis=(0,1,2)).reshape((1,1,1,-1))\n",
    "print(imgs_mean_test,imgs_std_test)\n",
    "\n",
    "imgs_mean_val = np.mean(X_val,axis=(0,1,2)).reshape((1,1,1,-1))\n",
    "imgs_std_val = np.std(X_val,axis=(0,1,2)).reshape((1,1,1,-1))\n",
    "print(imgs_mean_val,imgs_std_val)\n",
    "\n"
   ]
  },
  {
   "cell_type": "code",
   "execution_count": 30,
   "metadata": {},
   "outputs": [
    {
     "name": "stdout",
     "output_type": "stream",
     "text": [
      "(14966, 48, 48, 3) 1.8373571799704925e-12 1.0000000000002423\n",
      "(1164, 48, 48, 3) 1.7571112779959046e-16 0.9999999999991176\n",
      "(3078, 48, 48, 3) -7.279451269864641e-17 1.0000000000011238\n"
     ]
    }
   ],
   "source": [
    "X_train = (X_train - imgs_mean_train) / imgs_std_train #.reshape(num_imgs, -1)\n",
    "print(X_train.shape, np.mean(X_train), np.std(X_train))\n",
    "\n",
    "X_test = (X_test - imgs_mean_test) / imgs_std_test #.reshape(num_imgs, -1)\n",
    "print(X_test.shape, np.mean(X_test), np.std(X_test))\n",
    "\n",
    "X_val = (X_val - imgs_mean_val) / imgs_std_val #.reshape(num_imgs, -1)\n",
    "print(X_val.shape, np.mean(X_val), np.std(X_val))\n"
   ]
  },
  {
   "cell_type": "code",
   "execution_count": 860,
   "metadata": {},
   "outputs": [
    {
     "name": "stdout",
     "output_type": "stream",
     "text": [
      "(14966, 5) 0.2644112766715667 0.3443376734163612\n",
      "(1164, 5) 0.2775916380297824 0.35793506091194716\n",
      "(3078, 5) 0.26405945419103316 0.3437247903780434\n"
     ]
    }
   ],
   "source": [
    "Y_train = bbox_train_.reshape(num_imgs_train, -1).copy()\n",
    "Y_train[:,0:4] = Y_train[:,0:4]/48\n",
    "print(Y_train.shape, np.mean(Y_train), np.std(Y_train))\n",
    "\n",
    "Y_test = bbox_test_.reshape(num_imgs_test, -1).copy()\n",
    "Y_test[:,0:4] = Y_test[:,0:4]/48\n",
    "print(Y_test.shape, np.mean(Y_test), np.std(Y_test))\n",
    "\n",
    "Y_val = bbox_validation_.reshape(num_imgs_validation, -1).copy()\n",
    "Y_val[:,0:4] = Y_val[:,0:4]/48\n",
    "print(Y_val.shape, np.mean(Y_val), np.std(Y_val))"
   ]
  },
  {
   "cell_type": "code",
   "execution_count": 35,
   "metadata": {},
   "outputs": [
    {
     "name": "stdout",
     "output_type": "stream",
     "text": [
      "Net(\n",
      "  (hidden): Linear(in_features=1152, out_features=256, bias=True)\n",
      "  (box): Linear(in_features=256, out_features=4, bias=True)\n",
      "  (logit): Linear(in_features=256, out_features=1, bias=True)\n",
      "  (conv1): Sequential(\n",
      "    (0): Conv2d(3, 8, kernel_size=(2, 2), stride=(2, 2))\n",
      "    (1): ReLU()\n",
      "  )\n",
      "  (conv2): Sequential(\n",
      "    (0): Conv2d(8, 16, kernel_size=(2, 2), stride=(2, 2))\n",
      "    (1): ReLU()\n",
      "  )\n",
      "  (conv3): Sequential(\n",
      "    (0): Conv2d(16, 8, kernel_size=(1, 1), stride=(1, 1))\n",
      "    (1): ReLU()\n",
      "  )\n",
      ")\n"
     ]
    }
   ],
   "source": [
    "# define network architecture\n",
    "import torch\n",
    "import torch.nn.functional as F\n",
    "\n",
    "class Net(torch.nn.Module):\n",
    "    def __init__(self, n_feature, n_hidden, n_output, n_c):\n",
    "        super(Net, self).__init__()\n",
    "        self.hidden = torch.nn.Linear(n_feature, n_hidden)   # hidden layer\n",
    "        self.box = torch.nn.Linear(n_hidden, n_output-1)   # output layer\n",
    "        self.logit = torch.nn.Linear(n_hidden, 1)\n",
    "        \n",
    "        self.conv1 = torch.nn.Sequential(         # \n",
    "            torch.nn.Conv2d(\n",
    "                in_channels = n_c,            # input height\n",
    "                out_channels = 8,             # n_filters\n",
    "                kernel_size = 2,              # filter size\n",
    "                stride = 2,                   # filter movement/step\n",
    "                padding = 0,                  \n",
    "            ),                              \n",
    "            torch.nn.ReLU(),                      # activation\n",
    "            #torch.nn.MaxPool2d(kernel_size = 2),    \n",
    "        )\n",
    "        self.conv2 = torch.nn.Sequential(       \n",
    "            torch.nn.Conv2d(in_channels = 8, \n",
    "                            out_channels = 16, \n",
    "                            kernel_size = 2, \n",
    "                            stride = 2, \n",
    "                            padding = 0),      \n",
    "            torch.nn.ReLU(),                      # activation\n",
    "            #torch.nn.MaxPool2d(2),                \n",
    "        )\n",
    "        \n",
    "        self.conv3 = torch.nn.Sequential(       \n",
    "            torch.nn.Conv2d(in_channels = 16, \n",
    "                            out_channels = 8, \n",
    "                            kernel_size = 1, \n",
    "                            stride = 1, \n",
    "                            padding = 0),      \n",
    "            torch.nn.ReLU(),                      # activation\n",
    "            #torch.nn.MaxPool2d(2),                \n",
    "        )\n",
    "    def forward(self, x):\n",
    "        feat = self.conv1(x)\n",
    "        feat = self.conv2(feat)\n",
    "       \n",
    "        feat = self.conv3(feat)\n",
    "        feat = feat.view(feat.size(0), -1)\n",
    "        \n",
    "        x2 = F.relu(self.hidden(feat))      # activation function for hidden layer\n",
    "       \n",
    "        out_box = F.relu(self.box(x2))            # linear output\n",
    "        out_logit = torch.sigmoid(self.logit(x2))\n",
    "        \n",
    "        return out_box, out_logit\n",
    "      \n",
    "net = Net(n_feature = 1152, n_hidden = 256, n_output = 5, n_c = 3)     # define the network\n",
    "print(net)  # net architecture\n"
   ]
  },
  {
   "cell_type": "code",
   "execution_count": 894,
   "metadata": {},
   "outputs": [],
   "source": [
    "regression_criterion =  torch.nn.MSELoss()\n",
    "classification_criterion =  torch.nn.BCELoss()# Hint: Consider that we only one class to predict\n",
    "gamma =0.1"
   ]
  },
  {
   "cell_type": "code",
   "execution_count": 895,
   "metadata": {},
   "outputs": [
    {
     "name": "stdout",
     "output_type": "stream",
     "text": [
      "epoch: 0  Total loss -> 0.03543   classif_loss -> 0.03815  regress_loss -> 0.01096\n",
      "epoch: 1  Total loss -> 0.02778   classif_loss -> 0.02989  regress_loss -> 0.00881\n",
      "epoch: 2  Total loss -> 0.02491   classif_loss -> 0.02681  regress_loss -> 0.00783\n",
      "epoch: 3  Total loss -> 0.02537   classif_loss -> 0.02737  regress_loss -> 0.00739\n",
      "epoch: 4  Total loss -> 0.02336   classif_loss -> 0.02511  regress_loss -> 0.00758\n",
      "epoch: 5  Total loss -> 0.02183   classif_loss -> 0.02338  regress_loss -> 0.00788\n",
      "epoch: 6  Total loss -> 0.02160   classif_loss -> 0.02311  regress_loss -> 0.00804\n",
      "epoch: 7  Total loss -> 0.02104   classif_loss -> 0.02256  regress_loss -> 0.00743\n",
      "epoch: 8  Total loss -> 0.01981   classif_loss -> 0.02121  regress_loss -> 0.00720\n",
      "epoch: 9  Total loss -> 0.01968   classif_loss -> 0.02104  regress_loss -> 0.00739\n",
      "epoch: 10  Total loss -> 0.01912   classif_loss -> 0.02035  regress_loss -> 0.00801\n",
      "epoch: 11  Total loss -> 0.01772   classif_loss -> 0.01880  regress_loss -> 0.00802\n",
      "epoch: 12  Total loss -> 0.01749   classif_loss -> 0.01825  regress_loss -> 0.01065\n",
      "epoch: 13  Total loss -> 0.01763   classif_loss -> 0.01855  regress_loss -> 0.00940\n",
      "epoch: 14  Total loss -> 0.01764   classif_loss -> 0.01855  regress_loss -> 0.00937\n",
      "epoch: 15  Total loss -> 0.01754   classif_loss -> 0.01840  regress_loss -> 0.00978\n",
      "epoch: 16  Total loss -> 0.01669   classif_loss -> 0.01741  regress_loss -> 0.01021\n",
      "epoch: 17  Total loss -> 0.01573   classif_loss -> 0.01647  regress_loss -> 0.00906\n",
      "epoch: 18  Total loss -> 0.01504   classif_loss -> 0.01535  regress_loss -> 0.01225\n",
      "epoch: 19  Total loss -> 0.01573   classif_loss -> 0.01639  regress_loss -> 0.00975\n"
     ]
    }
   ],
   "source": [
    "# Instanciate the network and define the optimizer\n",
    "num_channels=3\n",
    "net = Net(n_feature = 1152, n_hidden = 256, n_output = 5, n_c = 3)\n",
    "optimizer = torch.optim.Adam(net.parameters(), lr = learning_rate)\n",
    "if(X_train.shape[1]!=num_channels): #dim1==channel\n",
    "    X_train = X_train.transpose((0,3,1,2))\n",
    "n_batch = X_train.shape[0]//batch_size\n",
    "\n",
    "for epoch in range(num_epoch):\n",
    "    for batch in range(n_batch):\n",
    "        batch_X = X_train[batch*batch_size:min((batch+1)*batch_size, X_train.shape[0])]\n",
    "        batch_y = Y_train[batch*batch_size:min((batch+1)*batch_size, X_train.shape[0])]\n",
    "        out_box, out_logit = net(torch.tensor(batch_X, dtype=torch.float32))\n",
    "        \n",
    "        mask_arr = np.argwhere(batch_y[:,-1]==1).reshape((-1,))\n",
    "        regression_loss = regression_criterion(out_box[mask_arr], torch.tensor(batch_y[mask_arr,:-1], dtype=torch.float32))\n",
    "        classification_loss = classification_criterion(out_logit, torch.tensor(batch_y[:,-1:], dtype=torch.float32))\n",
    "        \n",
    "        # Compose the 2 loss functions using the weight gamma (1 line)\n",
    "        loss = gamma*(regression_loss)+(1-gamma)*classification_loss \n",
    "        \n",
    "        optimizer.zero_grad()   # clear gradients for next train\n",
    "        loss.backward()         # backpropagation, compute gradients\n",
    "        optimizer.step()        # apply gradients\n",
    "    \n",
    "    print('epoch: {}  Total loss -> {:.5f}   classif_loss -> {:.5f}  regress_loss -> {:.5f}'\n",
    "          .format(epoch, loss.item(), classification_loss.item(), regression_loss.item()))"
   ]
  },
  {
   "cell_type": "code",
   "execution_count": 896,
   "metadata": {},
   "outputs": [],
   "source": [
    "def calculate_accuracy(pred_class, pred_bboxes, test_bboxes):\n",
    "    # Calculate the mean IOU (overlap) between the predicted and expected bounding boxes on the test dataset. \n",
    "    summed_IOU = 0.\n",
    "    l =0\n",
    "    for pred_bbox, test_bbox in zip(pred_bboxes.reshape(-1, 4), test_bboxes.reshape(-1, 5)):\n",
    "        if(test_bbox[4]==1): # the ones that have black boxes\n",
    "            summed_IOU += calculate_IOU(pred_bbox, test_bbox)\n",
    "            l+=1\n",
    "    mean_IOU = summed_IOU / l\n",
    "    print(\"mean IOU: \", mean_IOU)\n",
    "\n",
    "    # classification accuracy\n",
    "    print(\"classification acc: \", np.mean(test_bboxes[:,4:]==pred_class))"
   ]
  },
  {
   "cell_type": "code",
   "execution_count": 897,
   "metadata": {},
   "outputs": [
    {
     "name": "stdout",
     "output_type": "stream",
     "text": [
      "mean IOU:  0.4989607892207596\n",
      "classification acc:  0.961780034745423\n"
     ]
    }
   ],
   "source": [
    "if(X_train.shape[1]!=num_channels):\n",
    "    X_train = train_X.transpose((0,3,1,2))\n",
    "# Predict bounding boxes on the train images.\n",
    "with torch.no_grad():\n",
    "    pred_y_train_box, pred_y_train_logit = net.forward(torch.tensor(X_train, dtype=torch.float32))\n",
    "    pred_y_train_box, pred_y_train_logit = pred_y_train_box.numpy(), pred_y_train_logit.numpy()\n",
    "    pred_y_train_label = pred_y_train_logit>0.5\n",
    "    pred_bboxes_train = pred_y_train_box\n",
    "    pred_bboxes_train = pred_bboxes_train.reshape(len(pred_bboxes_train), 1, -1)\n",
    "    pred_bboxes_train.shape\n",
    "\n",
    "calculate_accuracy(pred_y_train_label, pred_bboxes_train, Y_train)"
   ]
  },
  {
   "cell_type": "code",
   "execution_count": 898,
   "metadata": {},
   "outputs": [
    {
     "name": "stdout",
     "output_type": "stream",
     "text": [
      "mean IOU:  0.41823556097341325\n",
      "classification acc:  0.9278350515463918\n"
     ]
    }
   ],
   "source": [
    "if(X_test.shape[1]!=num_channels):\n",
    "    X_test = X_test.transpose((0,3,1,2))\n",
    "# Predict bounding boxes on the train images.\n",
    "with torch.no_grad():\n",
    "    pred_y_test_box, pred_y_test_logit = net.forward(torch.tensor(X_test, dtype=torch.float32))\n",
    "    pred_y_test_box, pred_y_test_logit = pred_y_test_box.numpy(), pred_y_test_logit.numpy()\n",
    "    pred_y_test_label = pred_y_test_logit>0.5\n",
    "    pred_bboxes_test = pred_y_test_box\n",
    "    pred_bboxes_test = pred_bboxes_test.reshape(len(pred_bboxes_test), 1, -1)\n",
    "    pred_bboxes_test.shape\n",
    "\n",
    "calculate_accuracy(pred_y_test_label, pred_bboxes_test, Y_test)"
   ]
  },
  {
   "cell_type": "code",
   "execution_count": 55,
   "metadata": {},
   "outputs": [
    {
     "data": {
      "text/plain": [
       "array([[10., 10., 35., 33., 48.],\n",
       "       [ 0.,  0.,  0.,  0.,  0.],\n",
       "       [10., 10., 36., 38., 48.],\n",
       "       ...,\n",
       "       [ 0.,  0.,  0.,  0.,  0.],\n",
       "       [10., 10., 25., 26., 48.],\n",
       "       [ 0.,  0.,  0.,  0.,  0.]])"
      ]
     },
     "execution_count": 55,
     "metadata": {},
     "output_type": "execute_result"
    }
   ],
   "source": [
    "Y_test*48"
   ]
  },
  {
   "cell_type": "code",
   "execution_count": 56,
   "metadata": {},
   "outputs": [
    {
     "data": {
      "text/plain": [
       "array([[[10.448693 ,  9.678261 , 23.745543 , 25.29     ]],\n",
       "\n",
       "       [[10.896969 , 10.014378 , 26.241203 , 26.493729 ]],\n",
       "\n",
       "       [[10.121657 , 10.031761 , 25.923126 , 26.480524 ]],\n",
       "\n",
       "       ...,\n",
       "\n",
       "       [[ 9.8310175,  8.662792 , 20.991238 , 24.042583 ]],\n",
       "\n",
       "       [[ 9.972276 ,  9.820082 , 23.092058 , 23.900698 ]],\n",
       "\n",
       "       [[ 9.370278 , 10.164831 , 24.244097 , 23.863594 ]]], dtype=float32)"
      ]
     },
     "execution_count": 56,
     "metadata": {},
     "output_type": "execute_result"
    }
   ],
   "source": [
    "pred_bboxes_test*48"
   ]
  },
  {
   "cell_type": "code",
   "execution_count": 899,
   "metadata": {},
   "outputs": [
    {
     "name": "stdout",
     "output_type": "stream",
     "text": [
      "mean IOU:  0.4808673437216353\n",
      "classification acc:  0.9587394411955815\n"
     ]
    }
   ],
   "source": [
    "if(X_val.shape[1]!=num_channels):\n",
    "    X_val = X_val.transpose((0,3,1,2))\n",
    "# Predict bounding boxes on the train images.\n",
    "with torch.no_grad():\n",
    "    pred_y_val_box, pred_y_val_logit = net.forward(torch.tensor(X_val, dtype=torch.float32))\n",
    "    pred_y_val_box, pred_y_val_logit = pred_y_val_box.numpy(), pred_y_val_logit.numpy()\n",
    "    pred_y_val_label = pred_y_val_logit>0.5\n",
    "    idx=np.where(pred_y_val_label==0)\n",
    "    pred_y_val_box[idx[0],:]=[0,0,0,0]\n",
    "    pred_bboxes_val = pred_y_val_box\n",
    "    pred_bboxes_val = pred_bboxes_val.reshape(len(pred_bboxes_val), 1, -1)\n",
    "    \n",
    "\n",
    "calculate_accuracy(pred_y_val_label, pred_bboxes_val, Y_val)"
   ]
  },
  {
   "cell_type": "code",
   "execution_count": 843,
   "metadata": {},
   "outputs": [
    {
     "data": {
      "text/plain": [
       "array([[[10.304321,  9.519056, 25.494823, 25.872894]],\n",
       "\n",
       "       [[ 0.      ,  0.      ,  0.      ,  0.      ]],\n",
       "\n",
       "       [[10.072835,  9.666082, 25.433384, 25.449043]],\n",
       "\n",
       "       ...,\n",
       "\n",
       "       [[ 0.      ,  0.      ,  0.      ,  0.      ]],\n",
       "\n",
       "       [[ 9.949468,  9.995354, 22.35059 , 22.923737]],\n",
       "\n",
       "       [[ 0.      ,  0.      ,  0.      ,  0.      ]]], dtype=float32)"
      ]
     },
     "execution_count": 843,
     "metadata": {},
     "output_type": "execute_result"
    }
   ],
   "source": [
    "pred_bboxes_val*48"
   ]
  },
  {
   "cell_type": "markdown",
   "metadata": {},
   "source": [
    "## Simple Detector by manually creating feature space"
   ]
  },
  {
   "cell_type": "markdown",
   "metadata": {},
   "source": [
    "### Building the training feature space"
   ]
  },
  {
   "cell_type": "code",
   "execution_count": 310,
   "metadata": {},
   "outputs": [],
   "source": [
    "X_train_simple=np.zeros((len(img_list_prep_train),2))\n",
    "kernelSize=4\n",
    "kernel = np.ones((kernelSize,kernelSize))\n",
    "\n",
    "for i in range(len(img_list_prep_train)):\n",
    "    name=img_list_prep_train[i]\n",
    "    #if i==0 : #print(name)\n",
    "    img = cv2.imread(prepared_data_path+name)\n",
    "    im= cv2.cvtColor(img, cv2.COLOR_BGR2GRAY)\n",
    "    ret,thresh = cv2.threshold(im,100,255,cv2.THRESH_BINARY)    \n",
    "    thresh[thresh>0]=1\n",
    "    if(np.sum(thresh>0)>2100):\n",
    "        thresh=np.zeros_like(thresh)\n",
    "    image_proprieties = measure.regionprops(thresh)\n",
    "    for prop in image_proprieties: \n",
    "        X_train_simple[i,0]=np.max(prop.area)\n",
    "        X_train_simple[i,1]=np.max(prop.perimeter)\n",
    "\n"
   ]
  },
  {
   "cell_type": "markdown",
   "metadata": {},
   "source": [
    "### Building the testing feature space"
   ]
  },
  {
   "cell_type": "code",
   "execution_count": 318,
   "metadata": {},
   "outputs": [],
   "source": [
    "X_test_simple=np.zeros((len(img_list_prep_test),2))\n",
    "kernelSize=4\n",
    "kernel = np.ones((kernelSize,kernelSize))\n",
    "\n",
    "for i in range(len(img_list_prep_test)):\n",
    "    name=img_list_prep_test[i]\n",
    "    #if i==0 : #print(name)\n",
    "    img = cv2.imread(prepared_data_path_test+name)\n",
    "    im= cv2.cvtColor(img, cv2.COLOR_BGR2GRAY)\n",
    "    ret,thresh = cv2.threshold(im,100,255,cv2.THRESH_BINARY)    \n",
    "    thresh[thresh>0]=1  \n",
    "    if(np.sum(thresh>0)>2100):\n",
    "        thresh=np.zeros_like(thresh)\n",
    " \n",
    "    image_proprieties = measure.regionprops(thresh)\n",
    "    for prop in image_proprieties: \n",
    "        X_test_simple[i,0]=np.max(prop.area)\n",
    "        X_test_simple[i,1]=np.max(prop.perimeter)\n"
   ]
  },
  {
   "cell_type": "markdown",
   "metadata": {},
   "source": [
    "### Building the validation feature space"
   ]
  },
  {
   "cell_type": "code",
   "execution_count": 350,
   "metadata": {},
   "outputs": [],
   "source": [
    "X_val_simple=np.zeros((len(img_list_prep_validation),2))\n",
    "kernelSize=4\n",
    "kernel = np.ones((kernelSize,kernelSize))\n",
    "\n",
    "for i in range(len(img_list_prep_validation)):\n",
    "    name=img_list_prep_validation[i]\n",
    "    #if i==0 : #print(name)\n",
    "    img = cv2.imread(prepared_data_path_validation+name)\n",
    "    im= cv2.cvtColor(img, cv2.COLOR_BGR2GRAY)\n",
    "    ret,thresh = cv2.threshold(im,100,255,cv2.THRESH_BINARY)    \n",
    "    thresh[thresh>0]=1  \n",
    "    if(np.sum(thresh>0)>2100):\n",
    "        thresh=np.zeros_like(thresh)\n",
    " \n",
    "    image_proprieties = measure.regionprops(thresh)\n",
    "    for prop in image_proprieties: \n",
    "        X_val_simple[i,0]=np.max(prop.area)\n",
    "        X_val_simple[i,1]=np.max(prop.perimeter)"
   ]
  },
  {
   "cell_type": "markdown",
   "metadata": {},
   "source": [
    "### Getting the training , validation and testing labels "
   ]
  },
  {
   "cell_type": "code",
   "execution_count": 125,
   "metadata": {},
   "outputs": [],
   "source": [
    "Y_train_simple=Y_train[:,4]\n",
    "Y_test_simple=Y_test[:,4]\n",
    "Y_val_simple=Y_val[:,4]"
   ]
  },
  {
   "cell_type": "markdown",
   "metadata": {},
   "source": [
    "### Prepocessing: Normalizing the dataset "
   ]
  },
  {
   "cell_type": "code",
   "execution_count": 351,
   "metadata": {},
   "outputs": [],
   "source": [
    "from sklearn import preprocessing\n",
    "#X_train_simple = preprocessing.scale(X_train_simple)\n",
    "#X_test_simple=preprocessing.scale(X_test_simple)\n",
    "X_val_simple=preprocessing.scale(X_val_simple)"
   ]
  },
  {
   "cell_type": "markdown",
   "metadata": {},
   "source": [
    "## 1) Let's start with SVM"
   ]
  },
  {
   "cell_type": "markdown",
   "metadata": {},
   "source": [
    "### Training and hyperparameter Tuning using Cross Validation grid-search "
   ]
  },
  {
   "cell_type": "code",
   "execution_count": 317,
   "metadata": {},
   "outputs": [
    {
     "name": "stdout",
     "output_type": "stream",
     "text": [
      "# Tuning hyper-parameters\n",
      "\n",
      "Best parameters set found on development set:\n",
      "\n",
      "{'C': 50, 'gamma': 1}\n",
      "\n",
      "Grid scores on development set:\n",
      "\n",
      "0.831 (+/-0.086) for {'C': 0.001, 'gamma': 0.001}\n",
      "0.831 (+/-0.085) for {'C': 0.001, 'gamma': 0.01}\n",
      "0.830 (+/-0.084) for {'C': 0.001, 'gamma': 0.1}\n",
      "0.830 (+/-0.083) for {'C': 0.001, 'gamma': 1}\n",
      "0.831 (+/-0.086) for {'C': 0.01, 'gamma': 0.001}\n",
      "0.831 (+/-0.083) for {'C': 0.01, 'gamma': 0.01}\n",
      "0.830 (+/-0.082) for {'C': 0.01, 'gamma': 0.1}\n",
      "0.834 (+/-0.087) for {'C': 0.01, 'gamma': 1}\n",
      "0.831 (+/-0.083) for {'C': 0.1, 'gamma': 0.001}\n",
      "0.831 (+/-0.083) for {'C': 0.1, 'gamma': 0.01}\n",
      "0.830 (+/-0.082) for {'C': 0.1, 'gamma': 0.1}\n",
      "0.863 (+/-0.070) for {'C': 0.1, 'gamma': 1}\n",
      "0.831 (+/-0.084) for {'C': 1, 'gamma': 0.001}\n",
      "0.830 (+/-0.082) for {'C': 1, 'gamma': 0.01}\n",
      "0.850 (+/-0.077) for {'C': 1, 'gamma': 0.1}\n",
      "0.865 (+/-0.067) for {'C': 1, 'gamma': 1}\n",
      "0.831 (+/-0.083) for {'C': 10, 'gamma': 0.001}\n",
      "0.829 (+/-0.082) for {'C': 10, 'gamma': 0.01}\n",
      "0.861 (+/-0.068) for {'C': 10, 'gamma': 0.1}\n",
      "0.866 (+/-0.065) for {'C': 10, 'gamma': 1}\n",
      "0.830 (+/-0.083) for {'C': 50, 'gamma': 0.001}\n",
      "0.834 (+/-0.086) for {'C': 50, 'gamma': 0.01}\n",
      "0.863 (+/-0.068) for {'C': 50, 'gamma': 0.1}\n",
      "0.868 (+/-0.068) for {'C': 50, 'gamma': 1}\n",
      "\n"
     ]
    }
   ],
   "source": [
    "Cs = [0.001, 0.01, 0.1, 1,10,50]\n",
    "gammas = [0.001, 0.01, 0.1, 1]\n",
    "param_grid = {'C': Cs, 'gamma' : gammas}\n",
    "warnings.filterwarnings('ignore')\n",
    "\n",
    "\n",
    "print(\"# Tuning hyper-parameters\")\n",
    "print()\n",
    "clf = GridSearchCV(SVC(kernel='rbf'), param_grid, cv=5,n_jobs = -1,\n",
    "                   scoring='f1')\n",
    "clf.fit(X_train_simple,Y_train_simple)\n",
    "print(\"Best parameters set found on development set:\")\n",
    "print()\n",
    "print(clf.best_params_)\n",
    "print()\n",
    "print(\"Grid scores on development set:\")\n",
    "print()\n",
    "means = clf.cv_results_['mean_test_score']\n",
    "stds = clf.cv_results_['std_test_score']\n",
    "for mean, std, params in zip(means, stds, clf.cv_results_['params']):\n",
    "    print(\"%0.3f (+/-%0.03f) for %r\"\n",
    "          % (mean, std * 2, params))\n",
    "print()"
   ]
  },
  {
   "cell_type": "markdown",
   "metadata": {},
   "source": [
    "### Since we have also validation, let's compute the gridsearch using the validation dataset"
   ]
  },
  {
   "cell_type": "code",
   "execution_count": 345,
   "metadata": {},
   "outputs": [
    {
     "name": "stdout",
     "output_type": "stream",
     "text": [
      "Best parameters set found on development set:\n",
      "\n",
      "{'C': 50, 'gamma': 0.1}\n",
      "\n",
      "Grid scores on development set:\n",
      "\n",
      "({'C': 50, 'gamma': 0.1}, 0.9050742147048672)\n",
      "({'C': 10, 'gamma': 0.1}, 0.8994528043775649)\n",
      "({'C': 0.01, 'gamma': 1}, 0.8846560846560845)\n",
      "({'C': 10, 'gamma': 0.001}, 0.8695962843872812)\n",
      "({'C': 0.1, 'gamma': 1}, 0.8522727272727272)\n",
      "({'C': 1, 'gamma': 0.1}, 0.8420062695924765)\n",
      "({'C': 1, 'gamma': 0.001}, 0.8398835516739447)\n",
      "({'C': 10, 'gamma': 1}, 0.8367221195317314)\n",
      "({'C': 1, 'gamma': 1}, 0.8355995055624227)\n",
      "({'C': 50, 'gamma': 0.001}, 0.8282753515914139)\n",
      "({'C': 0.1, 'gamma': 0.1}, 0.8207343412526998)\n",
      "({'C': 50, 'gamma': 0.01}, 0.8165422885572139)\n",
      "({'C': 0.1, 'gamma': 0.01}, 0.8133580705009277)\n",
      "({'C': 10, 'gamma': 0.01}, 0.8104248482684755)\n",
      "({'C': 50, 'gamma': 1}, 0.7980238302818948)\n",
      "({'C': 1, 'gamma': 0.01}, 0.722177742193755)\n",
      "({'C': 0.01, 'gamma': 0.001}, 0.6775421424687329)\n",
      "({'C': 0.001, 'gamma': 0.001}, 0.6775421424687329)\n",
      "({'C': 0.1, 'gamma': 0.001}, 0.6719242902208202)\n",
      "({'C': 0.001, 'gamma': 0.01}, 0.6708004509582862)\n",
      "({'C': 0.01, 'gamma': 0.01}, 0.6608280254777069)\n",
      "({'C': 0.01, 'gamma': 0.1}, 0.6161016949152542)\n",
      "({'C': 0.001, 'gamma': 0.1}, 0.09194097616345062)\n",
      "({'C': 0.001, 'gamma': 1}, 0.031525851197982346)\n",
      "\n"
     ]
    }
   ],
   "source": [
    "\n",
    "from hypopt import GridSearch\n",
    "Cs = [0.001, 0.01, 0.1, 1,10,50]\n",
    "gammas = [0.001, 0.01, 0.1, 1]\n",
    "param_grid = {'C': Cs, 'gamma' : gammas}\n",
    "warnings.filterwarnings('ignore')\n",
    "opt = GridSearch(SVC(kernel='rbf'),param_grid)\n",
    "opt.fit(X_train_simple, Y_train_simple, X_val_simple, Y_val_simple, scoring='f1')\n",
    "print(\"Best parameters set found on development set:\")\n",
    "print()\n",
    "print(opt.best_params)\n",
    "print()\n",
    "print(\"Grid scores on development set:\")\n",
    "print()\n",
    "for param in (opt.param_scores):\n",
    "    print(param)\n",
    "print()\n",
    "#print('Test Score for Optimized Parameters:', opt.score(X_test, y_test))"
   ]
  },
  {
   "cell_type": "code",
   "execution_count": 354,
   "metadata": {},
   "outputs": [],
   "source": [
    "def evaluate_method(y_true,y_pred): \n",
    "    \"\"\" Evaluating the model using f-measure and accuracy\n",
    "     Parameters\n",
    "    ----------\n",
    "        y_true  : True labels\n",
    "\n",
    "        y_pred  : Predicted labels\n",
    "                    \n",
    "    Returns : None\n",
    "    \n",
    "    \"\"\"\n",
    "    f1=metrics.f1_score(y_true, y_pred)\n",
    "    acc=metrics.accuracy_score(y_true, y_pred)\n",
    "    recall=metrics.recall_score(y_true, y_pred)\n",
    "    precision=metrics.precision_score(y_true, y_pred)\n",
    "    print(\"Recall= \",recall)\n",
    "    print(\"precision= \",precision)\n",
    "    print(\"F-measure= \",f1)\n",
    "    print(\"Accuracy= \",acc)\n",
    "    \n",
    "def plot_roc(y_true,y_pred):\n",
    "    \"\"\" Plotting Roc curve \n",
    "     Parameters\n",
    "    ----------\n",
    "        y_true  : True labels\n",
    "\n",
    "        y_pred  : Predicted labels\n",
    "                    \n",
    "    Returns : None\n",
    "    \n",
    "    \"\"\"\n",
    "    auc=roc_auc_score(y_true, y_pred)\n",
    "    print('auc=',auc)\n",
    "    fpr,tpr,_=roc_curve(y_true, y_pred)\n",
    "    plt.plot(fpr,tpr)\n",
    "\n",
    "    plt.plot([0, 1], [0, 1], color='navy', linestyle='--')\n",
    "    plt.xlim([0.0, 1.0])\n",
    "    plt.ylim([0.0, 1.05])\n",
    "    plt.xlabel('False Positive Rate')\n",
    "    plt.ylabel('True Positive Rate')\n",
    "    t=plt.title('Receiver operating characteristic')\n",
    "    \n",
    "def plot_prec_recall_curve(y_true, y_pred):\n",
    "    precision, recall, thresholds=precision_recall_curve(y_true, y_pred)\n",
    "    plt.plot(recall,precision)\n",
    "    plt.xlim([0.0, 1.0])\n",
    "    plt.ylim([0.0, 1.05])\n",
    "    plt.xlabel('Recall')\n",
    "    plt.ylabel('Precision')\n",
    "    t=plt.title('Precision recall curve')\n",
    "    print(\"AUPR= \",average_precision_score(y_true, y_pred))\n"
   ]
  },
  {
   "cell_type": "markdown",
   "metadata": {},
   "source": [
    "### Let's now see the model performance using the result of the cross validation grid-search"
   ]
  },
  {
   "cell_type": "markdown",
   "metadata": {},
   "source": [
    "#### First , the result on training data"
   ]
  },
  {
   "cell_type": "code",
   "execution_count": 359,
   "metadata": {},
   "outputs": [
    {
     "name": "stdout",
     "output_type": "stream",
     "text": [
      "Recall=  0.8165174395296004\n",
      "precision=  0.9509727626459143\n",
      "F-measure=  0.8786310037388553\n",
      "Accuracy=  0.8872110116263531\n"
     ]
    }
   ],
   "source": [
    "clf3=SVC(C=50, kernel='rbf', gamma=1)\n",
    "clf3.fit(X_train_simple, Y_train_simple)\n",
    "y_pred_svm_content_train=clf3.predict(X_train_simple)\n",
    "evaluate_method(Y_train_simple,y_pred_svm_content_train)"
   ]
  },
  {
   "cell_type": "markdown",
   "metadata": {},
   "source": [
    "#### Since we are perofming cross validation on the training set , the validation set is considered as testing "
   ]
  },
  {
   "cell_type": "code",
   "execution_count": 355,
   "metadata": {},
   "outputs": [
    {
     "name": "stdout",
     "output_type": "stream",
     "text": [
      "Recall=  0.8518518518518519\n",
      "precision=  0.9527616279069767\n",
      "F-measure=  0.8994854202401372\n",
      "Accuracy=  0.9048083170890189\n"
     ]
    }
   ],
   "source": [
    "clf3=SVC(C=50, kernel='rbf', gamma=1)\n",
    "clf3.fit(X_train_simple, Y_train_simple)\n",
    "y_pred_svm_content_val=clf3.predict(X_val_simple)\n",
    "evaluate_method(Y_val_simple,y_pred_svm_content_val)"
   ]
  },
  {
   "cell_type": "markdown",
   "metadata": {},
   "source": [
    "#### Now the result on the testing set "
   ]
  },
  {
   "cell_type": "code",
   "execution_count": 356,
   "metadata": {},
   "outputs": [
    {
     "name": "stdout",
     "output_type": "stream",
     "text": [
      "Recall=  0.845360824742268\n",
      "precision=  0.924812030075188\n",
      "F-measure=  0.8833034111310593\n",
      "Accuracy=  0.8883161512027491\n"
     ]
    }
   ],
   "source": [
    "clf2=SVC(C=50, kernel='rbf', gamma=1)\n",
    "clf2.fit(X_train_simple, Y_train_simple)\n",
    "y_pred_svm_content=clf2.predict(X_test_simple)\n",
    "evaluate_method(Y_test_simple,y_pred_svm_content)"
   ]
  },
  {
   "cell_type": "code",
   "execution_count": 357,
   "metadata": {},
   "outputs": [
    {
     "name": "stdout",
     "output_type": "stream",
     "text": [
      "AUPR=  0.8591194481047981\n"
     ]
    },
    {
     "data": {
      "image/png": "[encoded data removed]",
      "text/plain": [
       "<Figure size 432x288 with 1 Axes>"
      ]
     },
     "metadata": {
      "needs_background": "light"
     },
     "output_type": "display_data"
    }
   ],
   "source": [
    "plot_prec_recall_curve(Y_test_simple,y_pred_svm_content)\n"
   ]
  },
  {
   "cell_type": "code",
   "execution_count": 358,
   "metadata": {},
   "outputs": [
    {
     "name": "stdout",
     "output_type": "stream",
     "text": [
      "auc= 0.8883161512027492\n"
     ]
    },
    {
     "data": {
      "image/png": "[encoded data removed]",
      "text/plain": [
       "<Figure size 432x288 with 1 Axes>"
      ]
     },
     "metadata": {
      "needs_background": "light"
     },
     "output_type": "display_data"
    }
   ],
   "source": [
    "plot_roc(Y_test_simple,y_pred_svm_content)"
   ]
  },
  {
   "cell_type": "markdown",
   "metadata": {},
   "source": [
    "### Let's now see the model performance using the result of the grid-search on validation data"
   ]
  },
  {
   "cell_type": "markdown",
   "metadata": {},
   "source": [
    "#### First let's start with the result on training data"
   ]
  },
  {
   "cell_type": "code",
   "execution_count": 361,
   "metadata": {},
   "outputs": [
    {
     "name": "stdout",
     "output_type": "stream",
     "text": [
      "Recall=  0.7892556461312308\n",
      "precision=  0.9647174126102581\n",
      "F-measure=  0.8682102168320471\n",
      "Accuracy=  0.8801951089135374\n"
     ]
    }
   ],
   "source": [
    "clf4=SVC(C=50, kernel='rbf', gamma=0.1)\n",
    "clf4.fit(X_train_simple, Y_train_simple)\n",
    "y_pred_svm_content_train_2=clf4.predict(X_train_simple)\n",
    "evaluate_method(Y_train_simple,y_pred_svm_content_train_2)"
   ]
  },
  {
   "cell_type": "markdown",
   "metadata": {},
   "source": [
    "#### And now on testing "
   ]
  },
  {
   "cell_type": "code",
   "execution_count": 362,
   "metadata": {},
   "outputs": [
    {
     "name": "stdout",
     "output_type": "stream",
     "text": [
      "Recall=  0.8367697594501718\n",
      "precision=  0.9401544401544402\n",
      "F-measure=  0.8854545454545455\n",
      "Accuracy=  0.8917525773195877\n"
     ]
    }
   ],
   "source": [
    "clf4=SVC(C=50, kernel='rbf', gamma=0.1)\n",
    "clf4.fit(X_train_simple, Y_train_simple)\n",
    "y_pred_svm_content_test_2=clf4.predict(X_test_simple)\n",
    "evaluate_method(Y_test_simple,y_pred_svm_content_test_2)"
   ]
  },
  {
   "cell_type": "code",
   "execution_count": 363,
   "metadata": {},
   "outputs": [
    {
     "name": "stdout",
     "output_type": "stream",
     "text": [
      "AUPR=  0.868307925008956\n"
     ]
    },
    {
     "data": {
      "image/png": "[encoded data removed]",
      "text/plain": [
       "<Figure size 432x288 with 1 Axes>"
      ]
     },
     "metadata": {
      "needs_background": "light"
     },
     "output_type": "display_data"
    }
   ],
   "source": [
    "plot_prec_recall_curve(Y_test_simple,y_pred_svm_content_test_2)"
   ]
  },
  {
   "cell_type": "code",
   "execution_count": 365,
   "metadata": {},
   "outputs": [
    {
     "name": "stdout",
     "output_type": "stream",
     "text": [
      "auc= 0.8917525773195876\n"
     ]
    },
    {
     "data": {
      "image/png": "[encoded data removed]",
      "text/plain": [
       "<Figure size 432x288 with 1 Axes>"
      ]
     },
     "metadata": {
      "needs_background": "light"
     },
     "output_type": "display_data"
    }
   ],
   "source": [
    "plot_roc(Y_test_simple,y_pred_svm_content_test_2)"
   ]
  },
  {
   "cell_type": "markdown",
   "metadata": {},
   "source": [
    "## Part 1: Finding varroas by segmentation\n",
    "Add your implementation for ''**detect_by_segmentation**'' function. Please make sure the input and output follows the mentioned format."
   ]
  },
  {
   "cell_type": "code",
   "execution_count": 1,
   "metadata": {},
   "outputs": [],
   "source": [
    "def detect_by_segmentation(img):\n",
    "    '''\n",
    "    Input: One single image\n",
    "    Output: A numpy array containing coordonates of all detected varroas, with the following format: \n",
    "            [[x_1, y_1, w_1, h_2], [x_2, y_2, w_1, h_2], ..., [x_n, y_n, w_n, h_n]] \n",
    "            where ''n'' is the number of detected varroas.\n",
    "    '''\n",
    "\n",
    "    #Your code"
   ]
  },
  {
   "cell_type": "markdown",
   "metadata": {},
   "source": [
    "Add your implementation. Report the Precision, Recall and F1-score, by using all 50 images of the test-set, and considering 0.3 as the IoU threshold."
   ]
  },
  {
   "cell_type": "code",
   "execution_count": 2,
   "metadata": {},
   "outputs": [],
   "source": [
    "#Your code"
   ]
  },
  {
   "cell_type": "markdown",
   "metadata": {},
   "source": [
    "## Part 2: Implement your first detector\n",
    "\n",
    "Write your function(s) for the second part. Feel free to change the name of the function and add your additional functions, but please make sure their input and output follows the mentioned format."
   ]
  },
  {
   "cell_type": "code",
   "execution_count": 720,
   "metadata": {},
   "outputs": [],
   "source": [
    "prepared_data_path_unseen = './project-data/images/test/unseen/'\n",
    "def split_and_label(prepared_data_path_unseen,img,img_name): \n",
    "    #Mirror padding\n",
    "    w,h,d = img.shape \n",
    "    w_i=int(w/48)+1\n",
    "    h_i=int(h/48)+1\n",
    "    new_w=w_i*48\n",
    "    new_h=h_i*48\n",
    "    count=0\n",
    "    new_img=img\n",
    "    for i in range(w_i): \n",
    "        for j in range(h_i): \n",
    "            count+=1 \n",
    "            name=img_name+\"_\"+str(count)\n",
    "            sub_img=new_img[0:48,0:48,:]    \n",
    "            im=Image.fromarray(sub_img)\n",
    "            b, g, r = im.split()\n",
    "            im= Image.merge(\"RGB\", (r, g, b))\n",
    "            im.save(prepared_data_path_unseen+name+\".jpg\")         \n",
    "            new_img=np.roll(new_img,-48,axis=1)\n",
    "        new_img=np.roll(new_img,-48,axis=0)\n",
    "     "
   ]
  },
  {
   "cell_type": "code",
   "execution_count": 577,
   "metadata": {},
   "outputs": [],
   "source": [
    "def detect_by_method_1(img,name):\n",
    "    '''\n",
    "    Input: One single image\n",
    "    Output: A numpy array containing coordonates of all detected varroas, with the following format: \n",
    "            [[x_1, y_1, w_1, h_2], [x_2, y_2, w_1, h_2], ..., [x_n, y_n, w_n, h_n]] \n",
    "            where ''n'' is the number of detected varroas.\n",
    "    '''\n",
    "    split_and_label(prepared_data_path_unseen,img,name)\n",
    "    img_list_dir_unseen = os.listdir(prepared_data_path_unseen)\n",
    "    img_list_unseen = [names for names in img_list_dir_unseen  if names.endswith(\".jpg\")]\n",
    "    X_val_unseen=np.zeros((len(img_list_unseen),2))\n",
    "    kernelSize=4\n",
    "    kernel = np.ones((kernelSize,kernelSize))\n",
    "\n",
    "    for i in range(len(img_list_unseen)):\n",
    "        name=img_list_unseen[i]\n",
    "        #if i==0 : #print(name)\n",
    "        img = cv2.imread(prepared_data_path_unseen+name)\n",
    "        im= cv2.cvtColor(img, cv2.COLOR_BGR2GRAY)\n",
    "        ret,thresh = cv2.threshold(im,100,255,cv2.THRESH_BINARY)    \n",
    "        thresh[thresh>0]=1  \n",
    "        if(np.sum(thresh>0)>2150):\n",
    "            thresh=np.zeros_like(thresh)\n",
    "        #plt.figure()\n",
    "        #plt.imshow(thresh)\n",
    "        image_proprieties = measure.regionprops(thresh)\n",
    "        for prop in image_proprieties: \n",
    "            X_val_unseen[i,0]=np.max(prop.area)\n",
    "            X_val_unseen[i,1]=np.max(prop.perimeter)\n",
    "    return X_val_unseen\n",
    "    #Your code"
   ]
  },
  {
   "cell_type": "code",
   "execution_count": 721,
   "metadata": {},
   "outputs": [],
   "source": [
    "name=img_list_test[1]\n",
    "im=cv2.imread(src_path_test+name)\n",
    "X_val_unseen=detect_by_method_1(im,name)    "
   ]
  },
  {
   "cell_type": "code",
   "execution_count": 723,
   "metadata": {},
   "outputs": [],
   "source": [
    "X_val_unseen=preprocessing.scale(X_val_unseen)"
   ]
  },
  {
   "cell_type": "code",
   "execution_count": 724,
   "metadata": {},
   "outputs": [],
   "source": [
    "pred_unseen=clf4.predict(X_val_unseen)"
   ]
  },
  {
   "cell_type": "code",
   "execution_count": 727,
   "metadata": {},
   "outputs": [
    {
     "data": {
      "text/plain": [
       "-41.0"
      ]
     },
     "execution_count": 727,
     "metadata": {},
     "output_type": "execute_result"
    }
   ],
   "source": [
    "pred_unseen.sum()-1554"
   ]
  },
  {
   "cell_type": "markdown",
   "metadata": {},
   "source": [
    "Add your implementation. Report the Precision, Recall and F1-score, by using all 50 images of the test-set, and considering 0.3 as the IoU threshold."
   ]
  },
  {
   "cell_type": "code",
   "execution_count": 4,
   "metadata": {},
   "outputs": [],
   "source": [
    "#Your code"
   ]
  },
  {
   "cell_type": "markdown",
   "metadata": {},
   "source": [
    "## Part 3: Using MLP and CNNs\n",
    "\n",
    "Add your implementation for the thrid part. Feel free to add your desirable functions, but please make sure you have proper functions for the final detection, where their input and output follows the same format as the previous parts."
   ]
  },
  {
   "cell_type": "code",
   "execution_count": null,
   "metadata": {},
   "outputs": [],
   "source": []
  },
  {
   "cell_type": "markdown",
   "metadata": {},
   "source": [
    "## Challenge\n",
    "\n",
    "You can generate a json submission file by using the function ''**generate_pred_json**''. This prediction file can be uploaded online for evaluation (Please refer to section 3 of the project description for more details)."
   ]
  },
  {
   "cell_type": "code",
   "execution_count": 6,
   "metadata": {},
   "outputs": [],
   "source": [
    "import numpy as np\n",
    "import json\n",
    "\n",
    "def generate_pred_json(data, tag='baseline'):\n",
    "    '''\n",
    "    Input\n",
    "    - data: Is a dictionary d, such that:\n",
    "          d = { \n",
    "              \"ID_1\": [], \n",
    "              \"ID_2\": [[x_21, y_21, w_21, h_21], [x_22, y_22, w_22, h_22]], \n",
    "              ... \n",
    "              \"ID_i\": [[x_i1, y_i1, w_i1, h_i1], ..., [x_iJ, y_iJ, w_iJ, h_iJ]],\n",
    "              ... \n",
    "              \"ID_N\": [[x_N1, y_N1, w_N1, h_N1]],\n",
    "          }\n",
    "          where ID is the string id of the image (e.i. 5a05e86fa07d56baef59b1cb_32.00px_1) and the value the Kx4 \n",
    "          array of intergers for the K predicted bounding boxes (e.g. [[170, 120, 15, 15]])\n",
    "    - tag: (optional) string that will be added to the name of the json file.\n",
    "    Output\n",
    "      Create a json file, \"prediction_[tag].json\", conatining the prediction to EvalAI format.\n",
    "    '''\n",
    "    unvalid_key = []\n",
    "    _data = data.copy()\n",
    "    for key, value in _data.items():\n",
    "        try:\n",
    "            # Try to convert to numpy array and cast as closest int\n",
    "            print(key)\n",
    "            v = np.around(np.array(value)).astype(int)\n",
    "            # Check is it is a 2d array with 4 columns (x,y,w,h)\n",
    "            if v.ndim != 2 or v.shape[1] != 4:\n",
    "                unvalid_key.append(key)\n",
    "            # Id must be a string\n",
    "            if not isinstance(key, str):\n",
    "                unvalid_key.append(key)\n",
    "            _data[key] = v.tolist()\n",
    "        # Deal with not consistant array size and empty predictions\n",
    "        except (ValueError, TypeError):\n",
    "            unvalid_key.append(key)\n",
    "    # Remove unvalid key from dictionnary\n",
    "    for key in unvalid_key: del _data[key]\n",
    "    \n",
    "    with open('prediction_{}.json'.format(tag), 'w') as outfile:\n",
    "        json.dump(_data, outfile)"
   ]
  },
  {
   "cell_type": "code",
   "execution_count": 903,
   "metadata": {},
   "outputs": [
    {
     "data": {
      "text/plain": [
       "800"
      ]
     },
     "execution_count": 903,
     "metadata": {},
     "output_type": "execute_result"
    }
   ],
   "source": [
    "img_list_dir_unseen = os.listdir(src_path_train)\n",
    "img_list_unseen = [names for names in img_list_dir_unseen  if names.endswith(\".jpg\")]\n",
    "len(img_list_unseen)"
   ]
  },
  {
   "cell_type": "code",
   "execution_count": 917,
   "metadata": {},
   "outputs": [
    {
     "data": {
      "text/plain": [
       "(1, 48, 48)"
      ]
     },
     "execution_count": 917,
     "metadata": {},
     "output_type": "execute_result"
    }
   ],
   "source": [
    "h=np.zeros((1,48,48))\n",
    "h2=np.zeros((48,48))\n",
    "h[0]=h2\n",
    "h.shape"
   ]
  },
  {
   "cell_type": "code",
   "execution_count": 918,
   "metadata": {},
   "outputs": [],
   "source": [
    "def box_intersection_over_union(boxA, boxB):\n",
    "    #determine the (x, y)-coordinates of the intersection rectangle\n",
    "    boxA=[boxA[0],boxA[1],boxA[0]+boxA[2],boxA[1]+boxA[3]]\n",
    "    boxB=[boxB[0],boxB[1],boxB[0]+boxB[2],boxB[1]+boxB[3]]\n",
    "    xA = max(boxA[0], boxB[0])\n",
    "    yA = max(boxA[1], boxB[1])\n",
    "    xB = min(boxA[2], boxB[2])\n",
    "    yB = min(boxA[3], boxB[3])\n",
    "    # compute the area of intersection rectangle\n",
    "    interArea = max(0, xB - xA + 1) * max(0, yB - yA + 1)\n",
    "    # compute the area of both the prediction and ground-truth\n",
    "    boxAArea = (boxA[2] - boxA[0] + 1) * (boxA[3] - boxA[1] + 1)\n",
    "    boxBArea = (boxB[2] - boxB[0] + 1) * (boxB[3] - boxB[1] + 1)\n",
    " \n",
    "    # compute the intersection over union by taking the intersection\n",
    "    # area and dividing it by the sum of prediction + ground-truth\n",
    "    # areas - the interesection area\n",
    "    iou = interArea / float(boxAArea + boxBArea - interArea)\n",
    "    \n",
    "    return iou\n",
    "def compute_iou(ground_truth,predicted_varroa):\n",
    "    iou=-1*np.zeros((len(ground_truth),len(predicted_varroa)))\n",
    "    for i in range(len(ground_truth)): \n",
    "        for j in range(len(predicted_varroa)):\n",
    "            iou[i,j]=box_intersection_over_union(ground_truth[i],predicted_varroa[j])\n",
    "   \n",
    "    return iou"
   ]
  },
  {
   "cell_type": "code",
   "execution_count": 948,
   "metadata": {},
   "outputs": [],
   "source": [
    "img_name=random.choice(img_list)\n",
    "annotations_xmls = [parse_file(os.path.join(xml_path_train, img_name[:-4]) + '.xml') ]\n",
    "\n",
    "ground_truth=[]\n",
    "for i in range(len(annotations_xmls)): \n",
    "    ground_truth.append(annotations_xmls[0][i]['bbox'])"
   ]
  },
  {
   "cell_type": "code",
   "execution_count": 950,
   "metadata": {},
   "outputs": [
    {
     "data": {
      "text/plain": [
       "[522, 25, 29, 30]"
      ]
     },
     "execution_count": 950,
     "metadata": {},
     "output_type": "execute_result"
    }
   ],
   "source": [
    "ground_truth[0]"
   ]
  },
  {
   "cell_type": "code",
   "execution_count": 960,
   "metadata": {},
   "outputs": [
    {
     "ename": "ValueError",
     "evalue": "could not broadcast input array from shape (48,48,3) into shape (3,48,48)",
     "output_type": "error",
     "traceback": [
      "\u001b[1;31m---------------------------------------------------------------------------\u001b[0m",
      "\u001b[1;31mValueError\u001b[0m                                Traceback (most recent call last)",
      "\u001b[1;32m<ipython-input-960-8694669a0fec>\u001b[0m in \u001b[0;36m<module>\u001b[1;34m()\u001b[0m\n\u001b[0;32m     13\u001b[0m         \u001b[0mannotations_xmls\u001b[0m \u001b[1;33m=\u001b[0m \u001b[1;33m[\u001b[0m\u001b[0mparse_file\u001b[0m\u001b[1;33m(\u001b[0m\u001b[0mos\u001b[0m\u001b[1;33m.\u001b[0m\u001b[0mpath\u001b[0m\u001b[1;33m.\u001b[0m\u001b[0mjoin\u001b[0m\u001b[1;33m(\u001b[0m\u001b[0mxml_path_train\u001b[0m\u001b[1;33m,\u001b[0m \u001b[0mimg_name\u001b[0m\u001b[1;33m[\u001b[0m\u001b[1;33m:\u001b[0m\u001b[1;33m-\u001b[0m\u001b[1;36m4\u001b[0m\u001b[1;33m]\u001b[0m\u001b[1;33m)\u001b[0m \u001b[1;33m+\u001b[0m \u001b[1;34m'.xml'\u001b[0m\u001b[1;33m)\u001b[0m \u001b[1;33m]\u001b[0m\u001b[1;33m\u001b[0m\u001b[0m\n\u001b[0;32m     14\u001b[0m \u001b[1;33m\u001b[0m\u001b[0m\n\u001b[1;32m---> 15\u001b[1;33m         \u001b[0mreshape_window\u001b[0m\u001b[1;33m[\u001b[0m\u001b[1;36m0\u001b[0m\u001b[1;33m]\u001b[0m\u001b[1;33m=\u001b[0m\u001b[0mwindow\u001b[0m\u001b[1;33m\u001b[0m\u001b[0m\n\u001b[0m\u001b[0;32m     16\u001b[0m         \u001b[0mground_truth\u001b[0m\u001b[1;33m=\u001b[0m\u001b[1;33m[\u001b[0m\u001b[1;33m]\u001b[0m\u001b[1;33m\u001b[0m\u001b[0m\n\u001b[0;32m     17\u001b[0m         \u001b[1;32mfor\u001b[0m \u001b[0mi\u001b[0m \u001b[1;32min\u001b[0m \u001b[0mrange\u001b[0m\u001b[1;33m(\u001b[0m\u001b[0mlen\u001b[0m\u001b[1;33m(\u001b[0m\u001b[0mannotations_xmls\u001b[0m\u001b[1;33m[\u001b[0m\u001b[1;36m0\u001b[0m\u001b[1;33m]\u001b[0m\u001b[1;33m)\u001b[0m\u001b[1;33m)\u001b[0m\u001b[1;33m:\u001b[0m\u001b[1;33m\u001b[0m\u001b[0m\n",
      "\u001b[1;31mValueError\u001b[0m: could not broadcast input array from shape (48,48,3) into shape (3,48,48)"
     ]
    }
   ],
   "source": [
    "false_positive=0\n",
    "while (false_positive<6500):\n",
    "    (winW, winH) = (48, 48)\n",
    "    iou=0\n",
    "    img_name=random.choice(img_list)\n",
    "    im=cv2.imread(src_path_train+img_name)\n",
    "    count=0\n",
    "    for (x, y, window) in sliding_window(im, stepSize=48, windowSize=(winW, winH)):\n",
    "        reshape_window=np.zeros((1,48,48,3))\n",
    "        # if the window does not meet our desired window size, ignore it\n",
    "        if window.shape[0] != winH or window.shape[1] != winW:\n",
    "            continue\n",
    "        annotations_xmls = [parse_file(os.path.join(xml_path_train, img_name[:-4]) + '.xml') ]\n",
    "        \n",
    "        reshape_window[0]=window\n",
    "        ground_truth=[]\n",
    "        for i in range(len(annotations_xmls[0])): \n",
    "            ground_truth.append(annotations_xmls[0][i]['bbox'])\n",
    "        iou=compute_iou(ground_truth,[[x,y,48,48]])\n",
    "        if iou.any()>0.3:\n",
    "            continue\n",
    "        reshape_window_mean = np.mean(reshape_window,axis=(0,1,2)).reshape((1,1,1,-1))\n",
    "        reshape_window_std = np.std(reshape_window,axis=(0,1,2)).reshape((1,1,1,-1))\n",
    "        reshape_window = (reshape_window - reshape_window_mean) / reshape_window_std #.reshape(num_imgs, -1)\n",
    "        if(reshape_window.shape[1]!=3):\n",
    "            reshape_window = reshape_window.transpose((0,3,1,2))\n",
    "        # Predict bounding boxes on the train images.\n",
    "        with torch.no_grad():\n",
    "            pred_y_val_box_unseen, pred_y_val_logit_unseen = net.forward(torch.tensor(reshape_window, dtype=torch.float32))\n",
    "            pred_y_val_box_unseen, pred_y_val_logit_unseen = pred_y_val_box_unseen.numpy(), pred_y_val_logit_unseen.numpy()\n",
    "            pred_y_val_label_unseen = pred_y_val_logit_unseen>0.5\n",
    "            pred_bboxes_val_unseen = pred_y_val_box_unseen\n",
    "            pred_bboxes_val_unseen = pred_bboxes_val_unseen.reshape(len(pred_bboxes_val_unseen), 1, -1)\n",
    "        if pred_y_val_label_unseen==1:\n",
    "            im=Image.fromarray(window)\n",
    "            b, g, r = im.split()\n",
    "            im= Image.merge(\"RGB\", (r, g, b))\n",
    "            im.save(fp_data_path+img_name[:-4]+\"_\"+str(count)+\"_0.jpg\")   \n",
    "            count=count+1\n",
    "            false_positive=false_positive+1\n",
    "            "
   ]
  },
  {
   "cell_type": "code",
   "execution_count": 865,
   "metadata": {},
   "outputs": [],
   "source": [
    "X_val_unseen_=np.zeros((len(img_list_unseen),48,48,3))\n",
    "for i in range(len(img_list_unseen)):\n",
    "    name=img_list_unseen[i]\n",
    "    img = cv2.imread(prepared_data_path_unseen+name)\n",
    "    X_val_unseen_[i,:,:,:]=img"
   ]
  },
  {
   "cell_type": "code",
   "execution_count": 866,
   "metadata": {},
   "outputs": [
    {
     "name": "stdout",
     "output_type": "stream",
     "text": [
      "[[[[212.06688321 196.45453824 179.69004124]]]] [[[[48.53473396 44.58857915 38.80400043]]]]\n"
     ]
    }
   ],
   "source": [
    "imgs_mean_val_unseen = np.mean(X_val_unseen_,axis=(0,1,2)).reshape((1,1,1,-1))\n",
    "imgs_std_val_unseen = np.std(X_val_unseen_,axis=(0,1,2)).reshape((1,1,1,-1))\n",
    "print(imgs_mean_val_unseen,imgs_std_val_unseen)"
   ]
  },
  {
   "cell_type": "code",
   "execution_count": 867,
   "metadata": {},
   "outputs": [
    {
     "name": "stdout",
     "output_type": "stream",
     "text": [
      "(1476, 48, 48, 3) 1.3742116169504597e-16 0.9999999999981006\n"
     ]
    }
   ],
   "source": [
    "X_val_unseen_ = (X_val_unseen_ - imgs_mean_val_unseen) / imgs_std_val_unseen #.reshape(num_imgs, -1)\n",
    "print(X_val_unseen_.shape, np.mean(X_val_unseen_), np.std(X_val_unseen_))"
   ]
  },
  {
   "cell_type": "code",
   "execution_count": 868,
   "metadata": {},
   "outputs": [
    {
     "data": {
      "text/plain": [
       "(1476, 48, 48, 3)"
      ]
     },
     "execution_count": 868,
     "metadata": {},
     "output_type": "execute_result"
    }
   ],
   "source": [
    "X_val_unseen_.shape"
   ]
  },
  {
   "cell_type": "code",
   "execution_count": 869,
   "metadata": {},
   "outputs": [
    {
     "data": {
      "text/plain": [
       "(48, 48, 3)"
      ]
     },
     "execution_count": 869,
     "metadata": {},
     "output_type": "execute_result"
    }
   ],
   "source": [
    "X_val_unseen_[0,:].shape"
   ]
  },
  {
   "cell_type": "code",
   "execution_count": 900,
   "metadata": {},
   "outputs": [],
   "source": [
    "if(X_val_unseen_.shape[1]!=3):\n",
    "    X_val_unseen_ = X_val_unseen_.transpose((0,3,1,2))\n",
    "# Predict bounding boxes on the train images.\n",
    "with torch.no_grad():\n",
    "    pred_y_val_box_unseen, pred_y_val_logit_unseen = net.forward(torch.tensor(X_val_unseen_, dtype=torch.float32))\n",
    "    pred_y_val_box_unseen, pred_y_val_logit_unseen = pred_y_val_box_unseen.numpy(), pred_y_val_logit_unseen.numpy()\n",
    "    pred_y_val_label_unseen = pred_y_val_logit_unseen>0.5\n",
    "    pred_bboxes_val_unseen = pred_y_val_box_unseen\n",
    "    pred_bboxes_val_unseen = pred_bboxes_val_unseen.reshape(len(pred_bboxes_val_unseen), 1, -1)\n",
    "    #pred_bboxes_val_unseen.shape\n",
    "\n"
   ]
  },
  {
   "cell_type": "code",
   "execution_count": 901,
   "metadata": {},
   "outputs": [
    {
     "data": {
      "text/plain": [
       "1415"
      ]
     },
     "execution_count": 901,
     "metadata": {},
     "output_type": "execute_result"
    }
   ],
   "source": [
    "(pred_y_val_label_unseen).sum()"
   ]
  },
  {
   "cell_type": "code",
   "execution_count": 874,
   "metadata": {},
   "outputs": [
    {
     "data": {
      "text/plain": [
       "217"
      ]
     },
     "execution_count": 874,
     "metadata": {},
     "output_type": "execute_result"
    }
   ],
   "source": [
    "len(annotations_xmls_test[1])\n"
   ]
  },
  {
   "cell_type": "code",
   "execution_count": 763,
   "metadata": {},
   "outputs": [
    {
     "data": {
      "text/plain": [
       "array([[ True],\n",
       "       [ True],\n",
       "       [False],\n",
       "       ...,\n",
       "       [False],\n",
       "       [ True],\n",
       "       [ True]])"
      ]
     },
     "execution_count": 763,
     "metadata": {},
     "output_type": "execute_result"
    }
   ],
   "source": [
    "pred_y_val_label_unseen"
   ]
  },
  {
   "cell_type": "code",
   "execution_count": 877,
   "metadata": {},
   "outputs": [
    {
     "data": {
      "text/plain": [
       "1539"
      ]
     },
     "execution_count": 877,
     "metadata": {},
     "output_type": "execute_result"
    }
   ],
   "source": [
    "a=0\n",
    "for i in range(150):\n",
    "    a=a+(len(annotations_xmls_validation[i]))\n",
    "a"
   ]
  },
  {
   "cell_type": "code",
   "execution_count": 876,
   "metadata": {},
   "outputs": [],
   "source": [
    "def sliding_window(image, stepSize, windowSize):\n",
    "    # slide a window across the image\n",
    "    for y in range(0, image.shape[0], stepSize):\n",
    "        for x in range(0, image.shape[1], stepSize):\n",
    "            # yield the current window\n",
    "            yield (x, y, image[y:y + windowSize[1], x:x + windowSize[0]])"
   ]
  },
  {
   "cell_type": "code",
   "execution_count": 863,
   "metadata": {},
   "outputs": [],
   "source": [
    "(winW, winH) = (48, 48)\n",
    "\n",
    "img_name=img_list_test[1]\n",
    "im=cv2.imread(src_path_test+img_name)\n",
    "count=0\n",
    "for (x, y, window) in sliding_window(im, stepSize=48, windowSize=(winW, winH)):\n",
    "    # if the window does not meet our desired window size, ignore it\n",
    "    if window.shape[0] != winH or window.shape[1] != winW:\n",
    "        continue\n",
    "    name=img_name+\"_\"+str(count)\n",
    "    im=Image.fromarray(window)\n",
    "    b, g, r = im.split()\n",
    "    im= Image.merge(\"RGB\", (r, g, b))\n",
    "    im.save(prepared_data_path_unseen+name+\".jpg\")   \n",
    "    count=count+1\n"
   ]
  },
  {
   "cell_type": "code",
   "execution_count": null,
   "metadata": {},
   "outputs": [],
   "source": []
  }
 ],
 "metadata": {
  "anaconda-cloud": {},
  "kernelspec": {
   "display_name": "Python 3",
   "language": "python",
   "name": "python3"
  },
  "language_info": {
   "codemirror_mode": {
    "name": "ipython",
    "version": 3
   },
   "file_extension": ".py",
   "mimetype": "text/x-python",
   "name": "python",
   "nbconvert_exporter": "python",
   "pygments_lexer": "ipython3",
   "version": "3.7.0"
  }
 },
 "nbformat": 4,
 "nbformat_minor": 2
}
