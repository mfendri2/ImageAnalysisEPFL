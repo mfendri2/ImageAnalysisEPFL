{
 "cells": [
  {
   "cell_type": "code",
   "execution_count": 5,
   "metadata": {},
   "outputs": [],
   "source": [
    "import numpy as np\n",
    "weight=10\n",
    "n_body_joints = 10\n",
    "n_body_joints=10\n",
    "n_legs_joints=4\n",
    "n_oscillators_body=2*n_body_joints\n",
    "n_oscillators_leg=n_legs_joints\n",
    "n_oscillators=n_oscillators_body+n_oscillators_leg\n",
    "coupling_weights = np.zeros([n_oscillators, n_oscillators])\n",
    "n_body_joints = n_body_joints\n",
    "n_legs_joints = n_legs_joints\n",
    "for i in range(n_body_joints):\n",
    "            if i != n_body_joints-1:\n",
    "                coupling_weights[i, i + 1] = weight\n",
    "                coupling_weights[i + n_body_joints, i +n_body_joints + 1] = weight\n",
    "\n",
    "                coupling_weights[i + 1, i] = weight\n",
    "                coupling_weights[i + n_body_joints + 1, i + n_body_joints] = weight\n",
    "                coupling_weights[i, i + n_body_joints] = weight\n",
    "                coupling_weights[i + n_body_joints, i] = weight"
   ]
  },
  {
   "cell_type": "code",
   "execution_count": 7,
   "metadata": {},
   "outputs": [],
   "source": [
    " \n",
    "np.savetxt(\"foo.csv\", coupling_weights, delimiter=\",\")"
   ]
  },
  {
   "cell_type": "code",
   "execution_count": 9,
   "metadata": {},
   "outputs": [],
   "source": [
    "import math \n",
    "\"\"\"Set phase bias\"\"\"\n",
    "body_bias = math.pi/10\n",
    "limb_bias = math.pi\n",
    "phase_bias = np.zeros([n_oscillators, n_oscillators])\n",
    "for i in range(n_body_joints):\n",
    "    if i != n_body_joints-1:\n",
    "        phase_bias[i, i + 1] = -body_bias\n",
    "        phase_bias[i + n_body_joints, i + n_body_joints + 1] = -body_bias\n",
    "\n",
    "        phase_bias[i + 1, i] = body_bias\n",
    "        phase_bias[i + n_body_joints + 1, i + n_body_joints] = body_bias\n",
    "\n",
    "    phase_bias[i, i + n_body_joints] = limb_bias\n",
    "    phase_bias[i + n_body_joints, i] = limb_bias"
   ]
  },
  {
   "cell_type": "code",
   "execution_count": 10,
   "metadata": {},
   "outputs": [],
   "source": [
    "np.savetxt(\"phase.csv\", phase_bias, delimiter=\",\")"
   ]
  },
  {
   "cell_type": "code",
   "execution_count": null,
   "metadata": {},
   "outputs": [],
   "source": []
  }
 ],
 "metadata": {
  "kernelspec": {
   "display_name": "Python 3",
   "language": "python",
   "name": "python3"
  },
  "language_info": {
   "codemirror_mode": {
    "name": "ipython",
    "version": 3
   },
   "file_extension": ".py",
   "mimetype": "text/x-python",
   "name": "python",
   "nbconvert_exporter": "python",
   "pygments_lexer": "ipython3",
   "version": "3.7.0"
  }
 },
 "nbformat": 4,
 "nbformat_minor": 2
}
